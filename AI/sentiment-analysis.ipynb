{
 "cells": [
  {
   "cell_type": "markdown",
   "metadata": {},
   "source": [
    "![Data Dunkers Banner](https://github.com/PS43Foundation/data-dunkers/blob/main/docs/top-banner.jpg?raw=true)\n",
    "\n",
    "<a href=\"https://hub.callysto.ca/jupyter/hub/user-redirect/git-pull?repo=https%3A%2F%2Fgithub.com%2Fdata-dunkers%2Fdata-dunkers-modules&branch=main&subPath=AI/sentiment-analysis.ipynb&depth=1\" target=\"_parent\"><img src=\"https://raw.githubusercontent.com/callysto/curriculum-notebooks/master/open-in-callysto-button.svg?sanitize=true\" width=\"123\" height=\"24\" alt=\"Open in Callysto\"/></a><a href=\"https://colab.research.google.com/github/data-dunkers/data-dunkers-modules/blob/mainAI/sentiment-analysis.ipynb\" target=\"_parent\"><img src=\"https://colab.research.google.com/assets/colab-badge.svg?sanitize=true\" width=\"123\" height=\"24\" alt=\"Open in Colab\"/></a>"
   ]
  },
  {
   "cell_type": "markdown",
   "metadata": {},
   "source": [
    "# Artificial Intelligence - Sentiment Analysis"
   ]
  },
  {
   "cell_type": "markdown",
   "metadata": {},
   "source": [
    "## Objectives\n",
    "\n",
    "Students will be able to:\n",
    "\n",
    "- use the [nltk](https://www.nltk.org/) library to implement sentiment analysis in Python\n",
    "- identify ways to extract html, and ensure the correct data is extracted\n",
    "- learn about different ways to implement sentiment analysis depending on the context of the problem"
   ]
  },
  {
   "cell_type": "markdown",
   "metadata": {},
   "source": [
    "## Introduction\n",
    "\n",
    "[Sentiment analysis](https://en.wikipedia.org/wiki/Sentiment_analysis) is a way to figure out how people feel about something based on their words. For example, it can help us understand if a movie review is positive or negative, or if people are excited or unhappy about a product. \n",
    "\n",
    "In this notebook, you'll learn how to use a Python library called NLTK to perform sentiment analysis. We’ll also explore how to get data from websites and make sure we’re using the right information. Finally, you'll see how sentiment analysis can be applied in different situations to better understand opinions and feelings expressed in text.\n",
    "\n",
    "We'll begin by importing the necessary libraries for this notebook."
   ]
  },
  {
   "cell_type": "markdown",
   "metadata": {},
   "source": [
    "## Import Libraries"
   ]
  },
  {
   "cell_type": "code",
   "execution_count": null,
   "metadata": {},
   "outputs": [],
   "source": [
    "import nltk\n",
    "from nltk.sentiment.vader import SentimentIntensityAnalyzer\n",
    "import requests\n",
    "from bs4 import BeautifulSoup"
   ]
  },
  {
   "cell_type": "markdown",
   "metadata": {},
   "source": [
    "First, let's download the **VADER** model. This is a general sentiment analysis model that will perform well for most instances of sentiment analysis."
   ]
  },
  {
   "cell_type": "code",
   "execution_count": null,
   "metadata": {},
   "outputs": [],
   "source": [
    "nltk.download('vader_lexicon')"
   ]
  },
  {
   "cell_type": "markdown",
   "metadata": {},
   "source": [
    "Next, let's see how sentiment analysis works! Below, let's set-up 3 sentences that are clearly happy, neutral, and negative in tonality. Let's see how our model interprets each sentence. "
   ]
  },
  {
   "cell_type": "code",
   "execution_count": null,
   "metadata": {},
   "outputs": [],
   "source": [
    "sid = SentimentIntensityAnalyzer()\n",
    "\n",
    "sentences = [\"I am very extremely happy today because I scored an high score on my math test! I am feeling ecstatic!\", \"I am feeling okay today because I scored an average score on my science exam. I feel decent.\",\n",
    "             \"I am feeling very sad today because I scored an low score on my history exam today. This sucks!\"]\n",
    "\n",
    "for sentence in sentences:\n",
    "    score = sid.polarity_scores(sentence)\n",
    "    print(f\"Sentence: {sentence}\")\n",
    "    print(f\"Sentiment Scores: {score}\")\n",
    "    print(\"\\n\")"
   ]
  },
  {
   "cell_type": "markdown",
   "metadata": {},
   "source": [
    "In general, our model appears to have generally assessed each sentence correctly. One thing to note though is that it appears that our model tends to rate sentences neutrally (`neu`) more often than swing towards `pos` or `neg`. We can keep this in mind in our future uses of this mode."
   ]
  },
  {
   "cell_type": "markdown",
   "metadata": {},
   "source": [
    "## Extracting Information - Webscraping\n",
    "\n",
    "**Webscraping** is a technique used to automatically gather data from websites by accessing and extracting information from websites. \n",
    "\n",
    "It often involves using tools or scripts to navigate websites to pull out specific data like text, images, or links. \n",
    "\n",
    "In our case, we'll be using [asapsports](https://www.asapsports.com/) to extract the 2024 NBA finals interviews between the Boston Celtics and the Dallas Mavericks. Let's start by finding the interview for the Dallas Mavericks, the team who lost the NBA championship\n",
    "\n",
    "**Note:** For your own implementation of projects, you *DO NOT* have to use web-scraping to extract information. Webscraping involves understanding HTML which is separate from Python. Instead, you can simply copy and paste the string/text you'd like to perform sentiment analysis on into Python directly."
   ]
  },
  {
   "cell_type": "code",
   "execution_count": null,
   "metadata": {},
   "outputs": [],
   "source": [
    "luka_url = \"https://www.asapsports.com/show_interview.php?id=198323\"\n",
    "\n",
    "response = requests.get(luka_url)\n",
    "luka_html = response.content\n",
    "\n",
    "soup = BeautifulSoup(luka_html, \"html.parser\")\n",
    "\n",
    "luka_paragraphs= soup.find_all('p')\n",
    "\n",
    "temp = [para.get_text(strip=True) for para in luka_paragraphs]\n",
    "luka_info_combined = \"\\n\".join(temp)\n",
    "\n",
    "print(luka_info_combined)"
   ]
  },
  {
   "cell_type": "markdown",
   "metadata": {},
   "source": [
    "## Sentiment Analysis\n",
    "\n",
    "Now that we've obtained the interview for the Dallas Mavericks (primarily Luka Dončić) let's perform some sentiment analysis on his speech."
   ]
  },
  {
   "cell_type": "code",
   "execution_count": null,
   "metadata": {},
   "outputs": [],
   "source": [
    "luka_score = sid.polarity_scores(luka_info_combined)\n",
    "luka_score"
   ]
  },
  {
   "cell_type": "markdown",
   "metadata": {},
   "source": [
    "Surprisingly, we see that our model has rated Luka's speech as neutral and slightly positive compared to negative.\n",
    "\n",
    "However, in our text, we've also included Luka's interviewer. Let's try to separate Luka's interviewer and his own dialogue to get a better understanding of his speech."
   ]
  },
  {
   "cell_type": "code",
   "execution_count": null,
   "metadata": {},
   "outputs": [],
   "source": [
    "# separating texts\n",
    "\n",
    "def separate_text_luka(text):\n",
    "    interviewer_text = []\n",
    "    luka_text = []\n",
    "\n",
    "    lines = text.split('\\n')\n",
    "    current_speaker = None\n",
    "\n",
    "    for line in lines:\n",
    "        if line.startswith('Q.'):\n",
    "            current_speaker = 'interviewer'\n",
    "            interviewer_text.append(line[2:].strip())\n",
    "        elif line.startswith('LUKA DONCIC:'):\n",
    "            current_speaker = 'luka_doncic'\n",
    "            luka_text.append(line[len('LUKA DONCIC:'):].strip())\n",
    "        else:\n",
    "            if current_speaker == 'interviewer':\n",
    "                interviewer_text[-1] += ' ' + line.strip()\n",
    "            elif current_speaker == 'luka_doncic':\n",
    "                luka_text[-1] += ' ' + line.strip()\n",
    "\n",
    "    return '\\n'.join(interviewer_text), '\\n'.join(luka_text)\n",
    "\n",
    "interviewer, luka_doncic = separate_text_luka(luka_info_combined)\n",
    "\n",
    "print(\"Interviewer:\")\n",
    "print(interviewer)\n",
    "print(\"\\nLuka Dončić:\")\n",
    "print(luka_doncic)"
   ]
  },
  {
   "cell_type": "markdown",
   "metadata": {},
   "source": [
    "Now that we've separated Luka's text, let's perform sentiment analysis on both texts."
   ]
  },
  {
   "cell_type": "code",
   "execution_count": null,
   "metadata": {},
   "outputs": [],
   "source": [
    "luka_interviewer = sid.polarity_scores(interviewer)\n",
    "print(f\"Luka Interviewer Score: {luka_interviewer}\")\n",
    "\n",
    "luka_individual = sid.polarity_scores(luka_doncic)\n",
    "print(f\"Luka Score: {luka_individual}\")"
   ]
  },
  {
   "cell_type": "markdown",
   "metadata": {},
   "source": [
    "Looking at both texts, we see that we still have a dominantly presence of neutrality. We do see that Luka's score is slightly more negative compared to his interviewer, however, this amount appears to be too slight to be considered a major difference.\n",
    "\n",
    "Let's also find the text of the Boston Celtics, the team who won the NBA championship."
   ]
  },
  {
   "cell_type": "code",
   "execution_count": null,
   "metadata": {},
   "outputs": [],
   "source": [
    "jayson_tatum_url = 'https://www.asapsports.com/show_interview.php?id=198332'\n",
    "\n",
    "response = requests.get(jayson_tatum_url)\n",
    "tatum_html = response.content\n",
    "\n",
    "soup = BeautifulSoup(tatum_html, \"html.parser\")\n",
    "\n",
    "tatum_paragraphs= soup.find_all('p')\n",
    "\n",
    "temp = [para.get_text(strip=True) for para in tatum_paragraphs]\n",
    "tatum_info_combined = \"\\n\".join(temp)\n",
    "\n",
    "print(tatum_info_combined)"
   ]
  },
  {
   "cell_type": "code",
   "execution_count": null,
   "metadata": {},
   "outputs": [],
   "source": [
    "tatum_score = sid.polarity_scores(tatum_info_combined)\n",
    "tatum_score"
   ]
  },
  {
   "cell_type": "markdown",
   "metadata": {},
   "source": [
    "Similarly to Luka, Jayson Tatum appears to be overall neutral in tonality. Let's also separate his interview to get a more accurate analysis on his emotions."
   ]
  },
  {
   "cell_type": "code",
   "execution_count": null,
   "metadata": {},
   "outputs": [],
   "source": [
    "def separate_text_tatum(text):\n",
    "    interviewer_text = []\n",
    "    tatum_text = []\n",
    "\n",
    "    lines = text.split('\\n')\n",
    "    current_speaker = None\n",
    "\n",
    "    for line in lines:\n",
    "        if line.startswith('Q.'):\n",
    "            current_speaker = 'interviewer'\n",
    "            interviewer_text.append(line[2:].strip())\n",
    "        elif line.startswith('JAYSON TATUM:'):\n",
    "            current_speaker = 'jayson_tatum'\n",
    "            tatum_text.append(line[len('JAYSON TATUM:'):].strip())\n",
    "        else:\n",
    "            if current_speaker == 'interviewer':\n",
    "                interviewer_text[-1] += ' ' + line.strip()\n",
    "            elif current_speaker == 'jayson_tatum':\n",
    "                tatum_text[-1] += ' ' + line.strip()\n",
    "\n",
    "    return '\\n'.join(interviewer_text), '\\n'.join(tatum_text)"
   ]
  },
  {
   "cell_type": "code",
   "execution_count": null,
   "metadata": {},
   "outputs": [],
   "source": [
    "tatum_interviewer, tatum_individual = separate_text_tatum(tatum_info_combined)\n",
    "\n",
    "print(\"Interviewer:\")\n",
    "print(tatum_interviewer)\n",
    "print(\"\\nJayson Tatum:\")\n",
    "print(tatum_individual)"
   ]
  },
  {
   "cell_type": "code",
   "execution_count": null,
   "metadata": {},
   "outputs": [],
   "source": [
    "tatum_interviewer_score = sid.polarity_scores(tatum_interviewer)\n",
    "print(f\"Tatum Interviewer Score: {tatum_interviewer_score}\")\n",
    "\n",
    "tatum_individual_score = sid.polarity_scores(tatum_individual)\n",
    "print(f\"Tatum Score: {tatum_individual_score}\")"
   ]
  },
  {
   "cell_type": "markdown",
   "metadata": {},
   "source": [
    "Looking at our separated scores, we see that both are still overly neutral in nature, however, Tatum does appear to have a larger `pos` score compared to his interviewer. This should be natural, as Tatum appears to be happier in his interview as he was the team who won the NBA championship."
   ]
  },
  {
   "cell_type": "markdown",
   "metadata": {},
   "source": [
    "## Conclusion\n",
    "\n",
    "**Sentiment analysis** is a powerful tool for understanding people's emotions and opinions from text. By using techniques from the NLTK, we can automatically determine whether a piece of text expresses positive, negative, or neutral sentiments. \n",
    "\n",
    "This ability to analyze and interpret large volumes of text data can provide valuable insights for various applications. As you explore sentiment analysis, remember that it can be tailored to different problems, such as customer feedback to social media monitoring."
   ]
  }
 ],
 "metadata": {
  "kernelspec": {
   "display_name": "Python 3",
   "language": "python",
   "name": "python3"
  },
  "language_info": {
   "codemirror_mode": {
    "name": "ipython",
    "version": 3
   },
   "file_extension": ".py",
   "mimetype": "text/x-python",
   "name": "python",
   "nbconvert_exporter": "python",
   "pygments_lexer": "ipython3",
   "version": "3.12.4"
  }
 },
 "nbformat": 4,
 "nbformat_minor": 2
}
