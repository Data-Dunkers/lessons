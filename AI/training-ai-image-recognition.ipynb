{
  "nbformat": 4,
  "nbformat_minor": 0,
  "metadata": {
    "colab": {
      "provenance": []
    },
    "kernelspec": {
      "name": "python3",
      "display_name": "Python 3"
    },
    "language_info": {
      "name": "python"
    }
  },
  "cells": [
    {
      "cell_type": "markdown",
      "source": [
        "![DataDunkers.ca Banner](https://github.com/Data-Dunkers/lessons/blob/main/images/top-banner.jpg?raw=true)"
      ],
      "metadata": {
        "id": "qJtCxUFb749B"
      }
    },
    {
      "cell_type": "markdown",
      "source": [
        "# Training an AI\n",
        "\n",
        "We are going to train an AI system to recognize if an image is about basketball, baseball, or hockey.\n",
        "\n",
        "For training data, we'll use images that are [public domain](https://en.wikipedia.org/wiki/Public_domain) or [Creative Commons](https://creativecommons.org/) because we are allowed to use them without purchasing a license.\n",
        "\n",
        "The more example images we provide for training, the better the AI system will be able to discriminate between basketball and baseball."
      ],
      "metadata": {
        "id": "mNwjacw_9ba8"
      }
    },
    {
      "cell_type": "markdown",
      "source": [
        "## Getting Training Data\n",
        "\n",
        "1. Create three folders on your computer, one called `basketball`, one called `baseball`, and one called `hockey`.\n",
        "1. Find and download at least 10 images related to basketball from [Pexels](https://www.pexels.com/search/basketball/) or [Pixabay](https://pixabay.com/images/search/basketball/). Put them in your `basketball` folder.\n",
        "1. Find and download at least 10 images related to baseball from [Pexels](https://www.pexels.com/search/baseball/) or [Pixabay](https://pixabay.com/images/search/baseball/). Put them in your `baseball` folder.\n",
        "1. Find and download at least 10 images related to hocket from [Pexels](https://www.pexels.com/search/hockey/) or [Pixabay](https://pixabay.com/images/search/hockey/). Put them in your `hockey` folder."
      ],
      "metadata": {
        "id": "1TLdEBVF9aSW"
      }
    },
    {
      "cell_type": "markdown",
      "source": [
        "Open [Teachable Machine image training](https://teachablemachine.withgoogle.com/train/image)\n",
        "\n",
        "1. Rename **Class 1** as `basketball`, and **Class 2** as `baseball` by clicking on the pencil icons.\n",
        "1. Click the **Add a class** button and rename that new class as `hockey`.\n",
        "1. Upload your images to the correct class by clicking each of the **Upload** buttons.\n",
        "1. Click the **Train Model** button.\n",
        "1. After the training has finished, click the **Export Model** button, click the **Tensorflow Lite** tab on the right, then click the **Download my model** button. The button will change to **Converting model...** and it will take a few minutes, don't click away from that browser tab.\n",
        "1. Your model should then download automatically as **converted_tflite.zip**.\n",
        "1. Upload your **converted_tflite.zip** file to the folder that this notebook is in:\n",
        "\n",
        "    * If you are using the [Callysto Hub](https://hub.callysto.ca), it should work to click [here](.) then click the **↑Upload** button at the right.\n",
        "    * If you are using [Colab](https://colab.research.google.com/), click the button on the left that looks like a folder (🗂️) then click the button that contains an **↑**.\n",
        "    * If you are running in Jupyter Lab, the file browser is already on the left.\n",
        "\n",
        "After you have completed all of those steps, run the following cell to set up the image classifier."
      ],
      "metadata": {
        "id": "9txFWpUd9gpc"
      }
    },
    {
      "cell_type": "code",
      "source": [
        "from zipfile import ZipFile\n",
        "from PIL import Image, ImageOps\n",
        "import numpy as np\n",
        "import requests, urllib.request, os\n",
        "import pandas as pd\n",
        "try:\n",
        "    import tflite_runtime.interpreter as tflite\n",
        "except: # if tflite is not available, import and alias from tensorflow\n",
        "    import tensorflow as tf\n",
        "    tflite = tf.lite\n",
        "\n",
        "try:\n",
        "    with ZipFile('converted_tflite.zip', 'r') as zip_object:\n",
        "        zip_object.extractall()\n",
        "except:\n",
        "    print('Unable to find your converted_tflite.zip file, using Data Dunkers online version')\n",
        "    r = requests.get('https://raw.githubusercontent.com/Data-Dunkers/data/refs/heads/main/converted_tflite.zip')\n",
        "    with open('converted_tflite.zip', 'wb') as f:\n",
        "        f.write(r.content)\n",
        "    with ZipFile('converted_tflite.zip', 'r') as zip_object:\n",
        "        zip_object.extractall()\n",
        "\n",
        "interpreter = tflite.Interpreter('model_unquant.tflite')\n",
        "interpreter.allocate_tensors()\n",
        "input_details = interpreter.get_input_details()\n",
        "output_details = interpreter.get_output_details()\n",
        "input_shape = input_details[0]['shape']\n",
        "class_names = open('labels.txt', 'r').readlines()\n",
        "os.remove('model_unquant.tflite')\n",
        "os.remove('labels.txt')\n",
        "\n",
        "def classify_image(image_url, show_image=False):\n",
        "    filename = image_url.split('/')[-1]\n",
        "    r = requests.get(image_url, stream=True)\n",
        "    with open(filename, 'wb') as f:\n",
        "        f.write(r.content)\n",
        "    image = Image.open(filename).convert('RGB')\n",
        "    image = image.resize((input_shape[1], input_shape[2]))\n",
        "    if show_image:\n",
        "        display(image)\n",
        "    os.remove(filename)\n",
        "    input_data = (np.expand_dims(np.array(image), axis=0) / 255.0).astype(np.float32)\n",
        "    interpreter.set_tensor(input_details[0]['index'], input_data)\n",
        "    interpreter.invoke()\n",
        "    output_data = interpreter.get_tensor(output_details[0]['index'])\n",
        "    predicted_class = np.argmax(output_data)\n",
        "    predicted_class_name = class_names[predicted_class].strip()[2:]\n",
        "    confidence_level = output_data[0][predicted_class]\n",
        "    return predicted_class_name, confidence_level, image\n",
        "\n",
        "print('Model imported and classify_image(image_url) function defined')"
      ],
      "metadata": {
        "id": "mDr0K_ghA6Lk"
      },
      "execution_count": null,
      "outputs": []
    },
    {
      "cell_type": "markdown",
      "source": [
        "Now that we have set up the `classify_image()` function, we can load an image from a link and get its classification according to our trained AI. The function will return a classification category and confidence level, and a resized version of the image.\n",
        "\n",
        "Change the string in the `image_url` variable to be a direct link to an online image.\n",
        "\n",
        "Make sure you have copied the **image** address and that it is not a link to a webpage. The url should end with something like **.jpg**, **.gif**, or **.png**"
      ],
      "metadata": {
        "id": "JzD4LeFIb4Lt"
      }
    },
    {
      "cell_type": "code",
      "source": [
        "image_url = 'https://img.redbull.com/images/redbullcom/2023/11/9/auzqbcftt6nbqxhgsnjw/pascal-siakam-portrait'\n",
        "\n",
        "results = classify_image(image_url)\n",
        "results"
      ],
      "metadata": {
        "id": "5X7U2u68cLKq"
      },
      "execution_count": null,
      "outputs": []
    },
    {
      "cell_type": "markdown",
      "source": [
        "The first value returned is the classification, in our case `basketball` or `baseball` or `hockey`.\n",
        "\n",
        "The second is \"confidence score\" which is how sure the AI is of that classification, `1` means 100% confident.\n",
        "\n",
        "The third value is the downloaded and resized image. Run the next cell to display the downloaded image."
      ],
      "metadata": {
        "id": "I6YMHhw1kL0N"
      }
    },
    {
      "cell_type": "code",
      "source": [
        "results[2]"
      ],
      "metadata": {
        "id": "pEW5S5Qkkbra"
      },
      "execution_count": null,
      "outputs": []
    },
    {
      "cell_type": "markdown",
      "source": [
        "We can even use this to categorize a list of online images. We'll try it with some art rather than photos and see how it performs."
      ],
      "metadata": {
        "id": "d3aDBo4bkqwi"
      }
    },
    {
      "cell_type": "code",
      "source": [
        "urls = [\n",
        "    'https://free-images.com/sm/2c90/basketball_ball_orange_grass.jpg',\n",
        "    'https://free-images.com/sm/ba10/baseball_field_baseball_gravel.jpg',\n",
        "    'https://free-images.com/sm/862b/hockey_puck_hockey_pucks.jpg',\n",
        "    'https://free-images.com/md/c139/backyard_baseball_baseball_cards_1.jpg',\n",
        "    'https://free-images.com/md/6de0/backyard_baseball_baseball_cards_8.jpg',\n",
        "    'https://tinyurl.com/PS43skythlee',\n",
        "    'https://collectionapi.metmuseum.org/api/collection/v1/iiif/421259/778912/main-image',\n",
        "    'https://collectionapi.metmuseum.org/api/collection/v1/iiif/704860/1556049/main-image',\n",
        "    'https://collectionapi.metmuseum.org/api/collection/v1/iiif/437192/795865/main-image',\n",
        "    'https://raw.githubusercontent.com/Data-Dunkers/data/refs/heads/main/public-domain-images/Childe_Hassam_Ice_Hockey.jpg',\n",
        "    'https://raw.githubusercontent.com/Data-Dunkers/data/refs/heads/main/public-domain-images/Egyptian_Basketball_Painting.jpg',\n",
        "    'https://raw.githubusercontent.com/Data-Dunkers/data/refs/heads/main/public-domain-images/Fletcher_Ransom_Out_at_Home.jpg',\n",
        "    'https://raw.githubusercontent.com/Data-Dunkers/data/refs/heads/main/public-domain-images/Gemini_Baseball_Slide.png',\n",
        "    'https://raw.githubusercontent.com/Data-Dunkers/data/refs/heads/main/public-domain-images/Gemini_Basketball_Player.png',\n",
        "    'https://raw.githubusercontent.com/Data-Dunkers/data/refs/heads/main/public-domain-images/Gemini_Hockey_Goalie.png',\n",
        "    'https://raw.githubusercontent.com/Data-Dunkers/data/refs/heads/main/public-domain-images/ChatGPT_Renaissance_Basketball_Player.png',\n",
        "    'https://raw.githubusercontent.com/Data-Dunkers/data/refs/heads/main/public-domain-images/Jean_Jacoby_Hockey.jpg',\n",
        "    'https://raw.githubusercontent.com/Data-Dunkers/data/refs/heads/main/public-domain-images/Russ_Meyer_Baseball_Card.jpg',\n",
        "]\n",
        "\n",
        "data = pd.DataFrame(urls, columns=['url'])\n",
        "labels = []\n",
        "confidences = []\n",
        "images = []\n",
        "\n",
        "for url in urls:\n",
        "    results = classify_image(url, True)\n",
        "    print(f\"I'm {int(results[1]*100)}% certain that is {results[0]}.\")\n",
        "    labels.append(results[0])\n",
        "    confidences.append(results[1])\n",
        "    images.append(results[2])\n",
        "    print('---')\n",
        "\n",
        "data['image'] = images\n",
        "data['label'] = labels\n",
        "data['confidence'] = confidences\n",
        "data"
      ],
      "metadata": {
        "id": "4LByVqAXkvBI"
      },
      "execution_count": null,
      "outputs": []
    },
    {
      "cell_type": "markdown",
      "source": [
        "We now have a dataframe of images, labels, and confidence values. To access a particular row we can use `.iloc[]`."
      ],
      "metadata": {
        "id": "4VOk4VvnHR0j"
      }
    },
    {
      "cell_type": "code",
      "source": [
        "data.iloc[5]"
      ],
      "metadata": {
        "id": "_78C6_61HkQP"
      },
      "execution_count": null,
      "outputs": []
    },
    {
      "cell_type": "markdown",
      "source": [
        "And we can even display an image from the dataframe."
      ],
      "metadata": {
        "id": "ut69811VH7R9"
      }
    },
    {
      "cell_type": "code",
      "source": [
        "data.iloc[5]['image']"
      ],
      "metadata": {
        "id": "TqFJ9LyvIAzj"
      },
      "execution_count": null,
      "outputs": []
    },
    {
      "cell_type": "markdown",
      "source": [
        "If the model is not accurately identifying the sports, go back to the start of this notebook and train it with more images.\n",
        "\n",
        "Of course we can also use this same process to train an AI model to categorize of other things, for example identifying if an image is soup, salad, or sandwich."
      ],
      "metadata": {
        "id": "SQtSjroYIJt6"
      }
    },
    {
      "cell_type": "markdown",
      "source": [
        "[![Data Dunkers License](https://github.com/Data-Dunkers/lessons/blob/main/images/bottom-banner.jpg?raw=true)](https://github.com/Data-Dunkers/lessons/blob/main/LICENSE.md)"
      ],
      "metadata": {
        "id": "hh7WzvSqIKoS"
      }
    }
  ]
}