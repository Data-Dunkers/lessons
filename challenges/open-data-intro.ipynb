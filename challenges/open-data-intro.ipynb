{
 "cells": [
  {
   "cell_type": "markdown",
   "metadata": {},
   "source": [
    "![DataDunkers.ca Banner](https://github.com/Data-Dunkers/lessons/blob/main/images/top-banner.jpg?raw=true)"
   ]
  },
  {
   "attachments": {},
   "cell_type": "markdown",
   "metadata": {},
   "source": [
    "# Open Data Introduction\n",
    "\n",
    "Many governments an organizations publish [Open Data](https://en.wikipedia.org/wiki/Open_data) that is free to use. For example, the [Edmonton Open Data Portal](https://data.edmonton.ca) includes many interesting data sets such as:\n",
    "\n",
    "|Decription|Link|\n",
    "|-|-|\n",
    "|E-Scooter Locations|https://data.edmonton.ca/api/views/vq44-ni9f/rows.csv?accessType=DOWNLOAD|\n",
    "|Bike Counters|https://data.edmonton.ca/api/views/tq23-qn4m/rows.csv?accessType=DOWNLOAD|\n",
    "|Public Charging Stations for Electric Vehicles|https://data.edmonton.ca/api/views/xzhy-xe8z/rows.csv?accessType=DOWNLOAD|\n",
    "|Soccer Fields|https://data.edmonton.ca/api/views/6avx-8i8e/rows.csv?accessType=DOWNLOAD|\n",
    "|Public Washroom Locations|https://data.edmonton.ca/api/views/fw8s-c5qn/rows.csv?accessType=DOWNLOAD|\n",
    "|Edible Fruit Tree Locations|https://data.edmonton.ca/api/views/eecg-fc54/rows.csv?accessType=DOWNLOAD|\n",
    "|Fire Hydrant Locations|https://data.edmonton.ca/api/views/x4n2-2ke2/rows.csv?accessType=DOWNLOAD|\n",
    "|Spray Park Locations|https://data.edmonton.ca/api/views/jyra-si4k/rows.csv?accessType=DOWNLOAD|\n",
    "|Open City Wi-Fi Locations|https://data.edmonton.ca/api/views/vbxz-36ag/rows.csv?accessType=DOWNLOAD|"
   ]
  },
  {
   "attachments": {},
   "cell_type": "markdown",
   "metadata": {},
   "source": [
    "### Import Code Libraries and Data\n",
    "\n",
    "Run the cell below to import the required Python libraries and a dataset."
   ]
  },
  {
   "cell_type": "code",
   "execution_count": null,
   "metadata": {
    "scrolled": true
   },
   "outputs": [],
   "source": [
    "link = 'https://data.edmonton.ca/api/views/vq44-ni9f/rows.csv?accessType=DOWNLOAD'\n",
    "\n",
    "import pandas as pd\n",
    "import plotly.express as px\n",
    "import folium\n",
    "from folium.plugins import FastMarkerCluster\n",
    "data = pd.read_csv(link)\n",
    "data"
   ]
  },
  {
   "attachments": {},
   "cell_type": "markdown",
   "metadata": {},
   "source": [
    "## Exploring Data\n",
    "\n",
    "Let's seen what columns we have."
   ]
  },
  {
   "cell_type": "code",
   "execution_count": null,
   "metadata": {},
   "outputs": [],
   "source": [
    "data.columns"
   ]
  },
  {
   "attachments": {},
   "cell_type": "markdown",
   "metadata": {},
   "source": [
    "We can also take a look at the unique values in one column."
   ]
  },
  {
   "cell_type": "code",
   "execution_count": null,
   "metadata": {},
   "outputs": [],
   "source": [
    "column = 'Vendor'\n",
    "\n",
    "data[column].unique()"
   ]
  },
  {
   "attachments": {},
   "cell_type": "markdown",
   "metadata": {},
   "source": [
    "## Visualizing Data\n",
    "\n",
    "Numerical data can be visualized with scatter plots (`px.scatter`) or bar charts (`px.bar`), and we can create [histograms](https://en.wikipedia.org/wiki/Histogram) to count (and maybe group) data with (`px.histogram`)."
   ]
  },
  {
   "cell_type": "code",
   "execution_count": null,
   "metadata": {},
   "outputs": [],
   "source": [
    "px.scatter(data, x='Current Battery Fuel Level', y='Current Range in Meters', color='Vehicle Type', title='Current Range vs. Battery Level')"
   ]
  },
  {
   "cell_type": "code",
   "execution_count": null,
   "metadata": {},
   "outputs": [],
   "source": [
    "px.histogram(data, x='Current Range in Meters', title='Current Range Frequencies')"
   ]
  },
  {
   "cell_type": "markdown",
   "metadata": {},
   "source": [
    "If the dataset has latitude and longitude data, we can create a map using [Folium](https://python-visualization.github.io/folium/latest/user_guide.html)."
   ]
  },
  {
   "cell_type": "code",
   "execution_count": null,
   "metadata": {},
   "outputs": [],
   "source": [
    "m = folium.Map(location=[data['Latitude'].median(), data['Longitude'].median()], zoom_start=12)\n",
    "FastMarkerCluster(data=list(zip(data['Latitude'], data['Longitude']))).add_to(m)\n",
    "display(m)"
   ]
  },
  {
   "cell_type": "markdown",
   "metadata": {},
   "source": [
    "We can also filter a dataset, for example to include just e-bikes."
   ]
  },
  {
   "cell_type": "code",
   "execution_count": null,
   "metadata": {},
   "outputs": [],
   "source": [
    "filtered_data = data[data['Vehicle Type'] == 'e-bike']\n",
    "filtered_data"
   ]
  },
  {
   "cell_type": "markdown",
   "metadata": {},
   "source": [
    "Then we can create the map from the `filtered_data`.\n",
    "\n",
    "There are also other map styles (called `tiles`) that we can try:\n",
    "\n",
    "* `openstreetmap`\n",
    "* `stamen terrain`\n",
    "* `stamen toner`\n",
    "* `stamen watercolor`\n",
    "* `cartodb positron`\n",
    "* `cartodb dark_matter`\n",
    "* `mapbox bright` (Limited zoom levels)\n",
    "* `mapbox control room` (Limited zoom levels)"
   ]
  },
  {
   "cell_type": "code",
   "execution_count": null,
   "metadata": {},
   "outputs": [],
   "source": [
    "m = folium.Map(location=[data['Latitude'].median(), data['Longitude'].median()], zoom_start=12, tiles='stamen terrain')\n",
    "FastMarkerCluster(data=list(zip(filtered_data['Latitude'], filtered_data['Longitude']))).add_to(m)\n",
    "display(m)"
   ]
  },
  {
   "attachments": {},
   "cell_type": "markdown",
   "metadata": {},
   "source": [
    "Check out the [next notebook](open-data-challenge.ipynb) to continue your own analysis."
   ]
  },
  {
   "cell_type": "markdown",
   "metadata": {},
   "source": [
    "[![Data Dunkers License](https://github.com/Data-Dunkers/lessons/blob/main/images/bottom-banner.jpg?raw=true)](https://github.com/Data-Dunkers/lessons/blob/main/LICENSE.md)"
   ]
  }
 ],
 "metadata": {
  "kernelspec": {
   "display_name": "base",
   "language": "python",
   "name": "python3"
  },
  "language_info": {
   "codemirror_mode": {
    "name": "ipython",
    "version": 3
   },
   "file_extension": ".py",
   "mimetype": "text/x-python",
   "name": "python",
   "nbconvert_exporter": "python",
   "pygments_lexer": "ipython3",
   "version": "3.12.7"
  },
  "latex_envs": {
   "LaTeX_envs_menu_present": true,
   "autoclose": false,
   "autocomplete": true,
   "bibliofile": "biblio.bib",
   "cite_by": "apalike",
   "current_citInitial": 1,
   "eqLabelWithNumbers": true,
   "eqNumInitial": 1,
   "hotkeys": {
    "equation": "Ctrl-E",
    "itemize": "Ctrl-I"
   },
   "labels_anchors": false,
   "latex_user_defs": false,
   "report_style_numbering": false,
   "user_envs_cfg": false
  },
  "nbTranslate": {
   "displayLangs": [
    "*"
   ],
   "hotkey": "alt-t",
   "langInMainMenu": true,
   "sourceLang": "en",
   "targetLang": "fr",
   "useGoogleTranslate": true
  }
 },
 "nbformat": 4,
 "nbformat_minor": 2
}
