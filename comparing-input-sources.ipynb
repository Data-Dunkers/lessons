{
 "cells": [
  {
   "cell_type": "markdown",
   "metadata": {},
   "source": [
    "![Data Dunkers Banner](https://github.com/Data-Dunkers/lessons/blob/main/images/top-banner.jpg?raw=true)\n",
    "\n",
    "<a href=\"https://hub.callysto.ca/jupyter/hub/user-redirect/git-pull?repo=https%3A%2F%2Fgithub.com%2FData-Dunkers%2Flessons&branch=main&subPath=comparing-input-sources.ipynb&depth=1\" target=\"_blank\"><img src=\"https://raw.githubusercontent.com/Data-Dunkers/lessons/main/images/open-in-callysto-button.svg?sanitize=true\" width=\"123\" height=\"24\" alt=\"Open in Callysto\"></a>\n",
    "<a href=\"https://colab.research.google.com/github/Data-Dunkers/lessons/blob/main/comparing-input-sources.ipynb\" target=\"_blank\"><img src=\"https://raw.githubusercontent.com/Data-Dunkers/lessons/main/images/open-in-colab-button.svg?sanitize=true\" width=\"123\" height=\"24\" alt=\"Open in Colab\"></a>"
   ]
  },
  {
   "cell_type": "markdown",
   "metadata": {},
   "source": [
    "# Data Dunkers Lesson: Comparing Data Input Sources"
   ]
  },
  {
   "cell_type": "markdown",
   "metadata": {},
   "source": [
    "## Lesson Objectives"
   ]
  },
  {
   "cell_type": "markdown",
   "metadata": {},
   "source": [
    "By the end of this lesson, students will be able to:\n",
    "- Import and manage data in a Jupyter Notebook from various sources using pandas."
   ]
  },
  {
   "cell_type": "markdown",
   "metadata": {},
   "source": [
    "## Introduction"
   ]
  },
  {
   "cell_type": "markdown",
   "metadata": {},
   "source": [
    "We'll explore five different ways to input data into a Jupyter Notebook:\n",
    "\n",
    "- direct entry\n",
    "- CSV files\n",
    "- Excel files\n",
    "- webpages\n",
    "- Google Sheets"
   ]
  },
  {
   "cell_type": "markdown",
   "metadata": {},
   "source": [
    "## Getting Data From Within the Notebook"
   ]
  },
  {
   "cell_type": "markdown",
   "metadata": {},
   "source": [
    "Inputing data directly within the Jupyter Notebook is useful for small datasets or for testing purposes. Here, we define lists of x and y values and use them to create a simple line plot."
   ]
  },
  {
   "cell_type": "code",
   "execution_count": null,
   "metadata": {},
   "outputs": [],
   "source": [
    "import pandas as pd\n",
    "\n",
    "# Define the data\n",
    "x_data = [0, 1, 2, 3, 4, 5]\n",
    "y_data = [0, 1, 4, 9, 16, 25]\n",
    "\n",
    "# Create a DataFrame from the data\n",
    "df = pd.DataFrame({'X': x_data, 'Y': y_data})\n",
    "\n",
    "# Display the DataFrame\n",
    "df"
   ]
  },
  {
   "cell_type": "markdown",
   "metadata": {},
   "source": [
    "## Getting Data from a CSV File"
   ]
  },
  {
   "cell_type": "markdown",
   "metadata": {},
   "source": [
    "Next we'll import data from a CSV file, a common format for data storage due to their simplicity and compatibility."
   ]
  },
  {
   "cell_type": "code",
   "execution_count": null,
   "metadata": {},
   "outputs": [],
   "source": [
    "import pandas as pd\n",
    "\n",
    "# Read the CSV file into a DataFrame named df\n",
    "url = 'https://raw.githubusercontent.com/pbeens/Data-Dunkers/main/Data/x-y-data.csv'\n",
    "df = pd.read_csv(url)\n",
    "\n",
    "# Display the DataFrame\n",
    "df"
   ]
  },
  {
   "cell_type": "markdown",
   "metadata": {},
   "source": [
    "## Data from an Excel Spreadsheet"
   ]
  },
  {
   "cell_type": "markdown",
   "metadata": {},
   "source": [
    "Excel is a popular tool for data management, and pandas provides built-in support for reading Excel files using `read_excel`"
   ]
  },
  {
   "cell_type": "code",
   "execution_count": null,
   "metadata": {},
   "outputs": [],
   "source": [
    "import pandas as pd\n",
    "\n",
    "# Read the Excel file into a DataFrame named df\n",
    "url = 'https://raw.githubusercontent.com/Data-Dunkers/data-dunkers-modules/main/data/x-y-data.xlsx'\n",
    "df = pd.read_excel(url)\n",
    "\n",
    "# Display the DataFrame\n",
    "df"
   ]
  },
  {
   "cell_type": "markdown",
   "metadata": {},
   "source": [
    "## Getting Data from a Webpage"
   ]
  },
  {
   "cell_type": "markdown",
   "metadata": {},
   "source": [
    "Web scraping is an invaluable skill for gathering data that's publicly available online. In this example, we'll use the Pandas read_html function to load a table directly from a webpage.\n",
    "\n",
    "With this method, we can easily import tabular data from any webpage, provided we correctly identify the table we want to use. This opens up a wide range of possibilities for data analysis."
   ]
  },
  {
   "cell_type": "code",
   "execution_count": null,
   "metadata": {},
   "outputs": [],
   "source": [
    "import pandas as pd\n",
    "\n",
    "# Read the HTML table into a DataFrame named df\n",
    "url = 'https://raw.githubusercontent.com/Data-Dunkers/data/main/demo/x-y-data.html'\n",
    "df = pd.read_html(url)[0]  # Index 0 is the first table\n",
    "\n",
    "# Display the DataFrame\n",
    "df"
   ]
  },
  {
   "cell_type": "markdown",
   "metadata": {},
   "source": [
    "## Getting Data from a Google Sheet"
   ]
  },
  {
   "cell_type": "markdown",
   "metadata": {},
   "source": [
    "This method is particularly useful for collaborative projects, as Google Sheets allow multiple users to edit and view the data in real-time.\n",
    "\n",
    "Ensure your Google Sheet is set to be viewable by anyone with the link, replace the end of the URL with `/export?format=csv`, and then treat it like any other CSV file."
   ]
  },
  {
   "cell_type": "code",
   "execution_count": null,
   "metadata": {},
   "outputs": [],
   "source": [
    "import pandas as pd\n",
    "\n",
    "# Google Sheet URL variable, with modified /export?format=csv ending\n",
    "url = 'https://docs.google.com/spreadsheets/d/1ZULKhYzsMd4eYwiprsyGgE9Df3gaVtO8WRalUQDn-xE/export?format=csv'\n",
    "\n",
    "# Read the Google Sheet into a DataFrame named df\n",
    "df = pd.read_csv(url)\n",
    "\n",
    "# Display the DataFrame\n",
    "df"
   ]
  }
 ],
 "metadata": {
  "kernelspec": {
   "display_name": ".venv",
   "language": "python",
   "name": "python3"
  },
  "language_info": {
   "codemirror_mode": {
    "name": "ipython",
    "version": 3
   },
   "file_extension": ".py",
   "mimetype": "text/x-python",
   "name": "python",
   "nbconvert_exporter": "python",
   "pygments_lexer": "ipython3",
   "version": "3.11.4"
  }
 },
 "nbformat": 4,
 "nbformat_minor": 2
}
