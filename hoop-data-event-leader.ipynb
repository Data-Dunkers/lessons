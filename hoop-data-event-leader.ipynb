{
 "cells": [
   {
   "cell_type": "markdown",
   "metadata": {},
   "source": [
    "![Data Dunkers Banner](https://github.com/Data-Dunkers/lessons/blob/main/images/top-banner.jpg?raw=true)\n",
    "\n",
    "<a href=\"https://hub.callysto.ca/jupyter/hub/user-redirect/git-pull?repo=https%3A%2F%2Fgithub.com%2Fdata-dunkers%2Flessons&branch=main&subPath=hoop-data-event-leader.ipynb&depth=1\" target=\"_parent\"><img src=\"https://raw.githubusercontent.com/Data-Dunkers/lessons/main/images/open-in-callysto-button.svg?sanitize=true\" width=\"123\" height=\"24\" alt=\"Open in Callysto\"/></a>\n",
    "<a href=\"https://colab.research.google.com/github/data-dunkers/lessons/blob/main/hoop-data-event-leader.ipynb\" target=\"_parent\"><img src=\"https://raw.githubusercontent.com/Data-Dunkers/lessons/main/images/open-in-colab-button.svg?sanitize=true\" width=\"123\" height=\"24\" alt=\"Open in Colab\"/></a>"
   ]
  },
  {
   "cell_type": "markdown",
   "metadata": {},
   "source": [
    "# Data Dunkers Leader Board"
   ]
  },
 {
  "cell_type": "code",
  "metadata": {},
  "source": [
   "import pandas as pd\n",
   "\n",
   "# Load data from Google Sheets\n",
   "url = 'https://docs.google.com/spreadsheets/d/1nMEUcQtQu7MsRdTv8p-hDcJ3BjBMnCGapqcoXmzoFNo/export?format=xlsx'\n",
   "df = pd.read_excel(url)\n",
   "\n",
   "# Drop rows without nickname\n",
   "df = df[df['Nickname'].notna()]"
  ],
  "execution_count": null,
  "outputs": []
 },
 {
 "cell_type": "code",
 "metadata": {},
 "source": [
  "# Group by Nickname and Distance, then average shots made\n",
  "grouped = df.groupby(['Nickname', 'Distance'])['Shots made'].mean().unstack().fillna(0)\n",
  "\n",
  "# Rename columns for consistency\n",
  "grouped = grouped.rename(columns={\n",
  "    'Line 1': 'Line 1 Avg',\n",
  "    'Line 2': 'Line 2 Avg',\n",
  "    'Line 3': 'Line 3 Avg'\n",
  "})\n",
  "\n",
  "# Ensure all expected columns exist (in case some are missing)\n",
  "for col in ['Line 1 Avg', 'Line 2 Avg', 'Line 3 Avg']:\n",
  "    if col not in grouped.columns:\n",
  "        grouped[col] = 0\n",
  "\n",
  "# Calculate weighted average points\n",
  "grouped['Average Points'] = (\n",
  "    grouped['Line 1 Avg'] * 1 +\n",
  "    grouped['Line 2 Avg'] * 2 +\n",
  "    grouped['Line 3 Avg'] * 3\n",
  ")\n",
  "\n",
  "# Round all numeric values to 2 decimals\n",
  "grouped = grouped.round(2)\n",
  "\n",
  "# Reset index so Nickname is a column, then sort and rank\n",
  "leaderboard = grouped.reset_index().sort_values(by='Average Points', ascending=False)\n",
  "leaderboard.insert(0, 'Rank', range(1, len(leaderboard) + 1))\n",
  "leaderboard"
 ],
 "execution_count": null,
 "outputs": []
}
 ],
 "metadata": {
  "kernelspec": {
   "display_name": "Python 3",
   "language": "python",
   "name": "python3"
  },
  "language_info": {
   "codemirror_mode": {
    "name": "ipython",
    "version": 3
   },
   "file_extension": ".py",
   "mimetype": "text/x-python",
   "name": "python",
   "nbconvert_exporter": "python",
   "pygments_lexer": "ipython3",
   "version": "3.10.5"
  }
 },
 "nbformat": 4,
 "nbformat_minor": 2
}
