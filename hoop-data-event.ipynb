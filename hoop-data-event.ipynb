{
 "cells": [
   {
   "cell_type": "markdown",
   "metadata": {},
   "source": [
    "![Data Dunkers Banner](https://github.com/Data-Dunkers/lessons/blob/main/images/top-banner.jpg?raw=true)\n",
    "\n",
    "<a href=\"https://hub.callysto.ca/jupyter/hub/user-redirect/git-pull?repo=https%3A%2F%2Fgithub.com%2Fdata-dunkers%2Flessons&branch=main&subPath=hoop-data-event.ipynb&depth=1\" target=\"_parent\"><img src=\"https://raw.githubusercontent.com/Data-Dunkers/lessons/main/images/open-in-callysto-button.svg?sanitize=true\" width=\"123\" height=\"24\" alt=\"Open in Callysto\"/></a>\n",
    "<a href=\"https://colab.research.google.com/github/data-dunkers/lessons/blob/main/hoop-data-event.ipynb\" target=\"_parent\"><img src=\"https://raw.githubusercontent.com/Data-Dunkers/lessons/main/images/open-in-colab-button.svg?sanitize=true\" width=\"123\" height=\"24\" alt=\"Open in Colab\"/></a>"
   ]
  },
  {
   "cell_type": "markdown",
   "metadata": {},
   "source": [
    "# Let's Plot Hoop Data"
   ]
  },
 {
   "cell_type": "code",
   "metadata": {},
   "source": [
    "import pandas as pd\n",
    "import plotly.express as px\n",
    "\n",
    "# Reload the data from Google Sheets\n",
    "url = 'https://docs.google.com/spreadsheets/d/1nMEUcQtQu7MsRdTv8p-hDcJ3BjBMnCGapqcoXmzoFNo/export?format=csv'\n",
    "df = pd.read_csv(url)\n",
    "\n",
    "# Ensure valid nicknames only\n",
    "df = df[df['Nickname'].notna()]"
   ],
   "execution_count": null,
   "outputs": []
  },
  {
   "cell_type": "code",
   "metadata": {},
   "source": [
    "# Compute overall averages\n",
    "overall_avg = df[['1pt', '2pt', '3pt']].mean().rename('Overall')\n",
    "\n",
    "# Get last two unique nicknames\n",
    "unique_recent = df['Nickname'][::-1].drop_duplicates().head(2).tolist()\n",
    "\n",
    "# Get averages for the last two unique nicknames\n",
    "player_averages = df[df['Nickname'].isin(unique_recent)].groupby('Nickname')[['1pt', '2pt', '3pt']].mean()\n",
    "\n",
    "# Combine into a single dataframe for charting\n",
    "avg_df = pd.concat([overall_avg.to_frame().T, player_averages])\n",
    "avg_df.index.name = 'Shooter'\n",
    "avg_df = avg_df.reset_index()\n",
    "avg_df"
   ],
   "execution_count": null,
   "outputs": []
  },
  {
   "cell_type": "code",
   "metadata": {},
   "source": [
    "# Convert dataframe to long format for plotly express\n",
    "long_df = avg_df.melt(id_vars='Shooter', value_vars=['1pt', '2pt', '3pt'],\n",
    "                      var_name='Shot Type', value_name='Average Points')\n",
    "\n",
    "# Create bar chart\n",
    "fig = px.bar(long_df, x='Shooter', y='Average Points', color='Shot Type',\n",
    "             barmode='group', title='Shooting Averages: Overall vs Last Two Shooters')\n",
    "fig.update_yaxes(range=[0, long_df['Average Points'].max() + 1])\n",
    "fig.show()"
   ],
   "execution_count": null,
   "outputs": []
  }
 ],
 "metadata": {
  "kernelspec": {
   "display_name": "Python 3",
   "language": "python",
   "name": "python3"
  },
  "language_info": {
   "codemirror_mode": {
    "name": "ipython",
    "version": 3
   },
   "file_extension": ".py",
   "mimetype": "text/x-python",
   "name": "python",
   "nbconvert_exporter": "python",
   "pygments_lexer": "ipython3",
   "version": "3.10.5"
  }
 },
 "nbformat": 4,
 "nbformat_minor": 2
}
