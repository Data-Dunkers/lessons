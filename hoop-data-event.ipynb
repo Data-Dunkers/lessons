{
 "cells": [
   {
   "cell_type": "markdown",
   "metadata": {},
   "source": [
    "![Data Dunkers Banner](https://github.com/Data-Dunkers/lessons/blob/main/images/top-banner.jpg?raw=true)\n",
    "\n",
    "<a href=\"https://hub.callysto.ca/jupyter/hub/user-redirect/git-pull?repo=https%3A%2F%2Fgithub.com%2Fdata-dunkers%2Flessons&branch=main&subPath=hoop-data-event.ipynb&depth=1\" target=\"_parent\"><img src=\"https://raw.githubusercontent.com/Data-Dunkers/lessons/main/images/open-in-callysto-button.svg?sanitize=true\" width=\"123\" height=\"24\" alt=\"Open in Callysto\"/></a>\n",
    "<a href=\"https://colab.research.google.com/github/data-dunkers/lessons/blob/main/hoop-data-event.ipynb\" target=\"_parent\"><img src=\"https://raw.githubusercontent.com/Data-Dunkers/lessons/main/images/open-in-colab-button.svg?sanitize=true\" width=\"123\" height=\"24\" alt=\"Open in Colab\"/></a>"
   ]
  },
  {
   "cell_type": "markdown",
   "metadata": {},
   "source": [
    "# Let's Plot Hoop Data"
   ]
  },
 {
 "cell_type": "markdown",
 "metadata": {},
 "source": [
  "# 🔄 Auto-Updating Stats and Graph\n",
  "This section will show live stats based on all submissions, plus the last two unique nicknames."
 ]
},
{
 "cell_type": "code",
 "metadata": {},
 "source": [
  "import pandas as pd\n",
  "import plotly.express as px\n",
  "\n",
  "# Load the data from Google Sheets\n",
  "url = 'https://docs.google.com/spreadsheets/d/1nMEUcQtQu7MsRdTv8p-hDcJ3BjBMnCGapqcoXmzoFNo/export?format=xlsx'\n",
  "df = pd.read_excel(url)\n",
  "\n",
  "# Drop rows without nickname\n",
  "df = df[df['Nickname'].notna()]"
 ],
 "execution_count": null,
 "outputs": []
},
{
 "cell_type": "markdown",
 "metadata": {},
 "source": [
  "## 📋 Averages Table\n",
  "Shows the average number of shots made from each distance."
 ]
},
{
 "cell_type": "code",
 "metadata": {},
 "source": [
  "# Get last two unique nicknames (latest first)\n",
  "recent_names = df['Nickname'][::-1].drop_duplicates().head(2).tolist()\n",
  "\n",
  "# Compute average shots made per distance\n",
  "overall_avg = df.groupby('Distance')['Shots made'].mean().rename('Everyone')\n",
  "\n",
  "individual_avgs = []\n",
  "for name in recent_names:\n",
  "    player_avg = df[df['Nickname'] == name].groupby('Distance')['Shots made'].mean().rename(name)\n",
  "    individual_avgs.append(player_avg)\n",
  "\n",
  "# Combine all into one dataframe\n",
  "avg_df = pd.concat([overall_avg] + individual_avgs, axis=1).fillna(0).reset_index()\n",
  "avg_df"
 ],
 "execution_count": null,
 "outputs": []
},
{
 "cell_type": "markdown",
 "metadata": {},
 "source": [
  "## 📊 Graph of Shots Made per Distance\n",
  "Compares overall averages with the last two unique participants."
 ]
},
{
 "cell_type": "code",
 "metadata": {},
 "source": [
  "# Melt for plotly\n",
  "long_df = avg_df.melt(id_vars='Distance', var_name='Shooter', value_name='Avg Shots Made')\n",
  "\n",
  "# Plotly bar chart\n",
  "fig = px.bar(long_df, x='Distance', y='Avg Shots Made', color='Shooter', barmode='group',\n",
  "             title='Average Shots Made per Distance')\n",
  "fig.update_yaxes(range=[0, long_df['Avg Shots Made'].max() + 1])\n",
  "fig.show()"
 ],
 "execution_count": null,
 "outputs": []
}
 ],
 "metadata": {
  "kernelspec": {
   "display_name": "Python 3",
   "language": "python",
   "name": "python3"
  },
  "language_info": {
   "codemirror_mode": {
    "name": "ipython",
    "version": 3
   },
   "file_extension": ".py",
   "mimetype": "text/x-python",
   "name": "python",
   "nbconvert_exporter": "python",
   "pygments_lexer": "ipython3",
   "version": "3.10.5"
  }
 },
 "nbformat": 4,
 "nbformat_minor": 2
}
