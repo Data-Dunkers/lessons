{
 "cells": [
  {
   "cell_type": "markdown",
   "metadata": {},
   "source": [
    "![Data Dunkers Banner](https://github.com/Data-Dunkers/lessons/blob/main/images/top-banner.jpg?raw=true)\n",
    "\n",
    "<a href=\"https://hub.callysto.ca/jupyter/hub/user-redirect/git-pull?repo=https%3A%2F%2Fgithub.com%2Fdata-dunkers%2Flessons&branch=main&subPath=select-a-player.ipynb&depth=1\" target=\"_parent\"><img src=\"https://raw.githubusercontent.com/Data-Dunkers/lessons/main/images/open-in-callysto-button.svg?sanitize=true\" width=\"123\" height=\"24\" alt=\"Open in Callysto\"/></a>\n",
    "<a href=\"https://colab.research.google.com/github/data-dunkers/lessons/blob/main/select-a-player.ipynb\" target=\"_parent\"><img src=\"https://raw.githubusercontent.com/Data-Dunkers/lessons/main/images/open-in-colab-button.svg?sanitize=true\" width=\"123\" height=\"24\" alt=\"Open in Colab\"/></a>"
   ]
  },
  {
   "cell_type": "markdown",
   "metadata": {},
   "source": [
    "# Data Dunkers Lesson: Finding the Top Players"
   ]
  },
  {
   "cell_type": "markdown",
   "metadata": {},
   "source": [
    "## What we will do"
   ]
  },
  {
   "cell_type": "markdown",
   "metadata": {},
   "source": [
    "By the end of this lesson, students will be able to:\n",
    "\n",
    "- Use filtering techniques to find the top three players for your team of 3."
   ]
  },
  {
   "attachments": {},
   "cell_type": "markdown",
   "metadata": {},
   "source": [
    "## Import / Input"
   ]
  },
  {
   "cell_type": "markdown",
   "metadata": {},
   "source": [
    "Again, we will import [pandas](https://pandas.pydata.org/) to read data from a [CSV file](https://en.wikipedia.org/wiki/Comma-separated_values)."
   ]
  },
  {
   "cell_type": "code",
   "execution_count": null,
   "metadata": {},
   "outputs": [],
   "source": [
    "import pandas as pd\n",
    "\n",
    "# URL of the CSV file containing data for Pascal Siakam\n",
    "url = 'https://raw.githubusercontent.com/Data-Dunkers/data/refs/heads/main/WNBA/wnba_player_stats_2023.csv'\n",
    "\n",
    "# Read the CSV file into a pandas DataFrame\n",
    "df = pd.read_csv(url)\n",
    "\n",
    "# Display the DataFrame\n",
    "display(df)"
   ]
  },
  {
   "cell_type": "markdown",
   "metadata": {},
   "source": [
    "### Glossary\n",
    "Now let's look at the different stat categories we can sort by.\n",
    "| Stat | Description                       | Stat | Description                              |\n",
    "|------|-----------------------------------|------|------------------------------------------|\n",
    "| Name | Player's full name                | FGA  | Field goals attempted per game           |\n",
    "| POS  | Player's position                 | FG%  | Field goal percentage                    |\n",
    "| GP   | Games played                      | 3PM  | Three-point field goals made per game    |\n",
    "| MIN  | Minutes played per game           | 3PA  | Three-point field goals attempted per game|\n",
    "| PTS  | Points scored per game            | 3P%  | Three-point field goal percentage        |\n",
    "| FGM  | Field goals made per game         | FTM  | Free throws made per game                |\n",
    "| FTA  | Free throws attempted per game    | REB  | Rebounds per game                        |\n",
    "| FT%  | Free throw percentage             | AST  | Assists per game                         |\n",
    "| STL  | Steals per game                   | BLK  | Blocks per game                          |\n",
    "| TO   | Turnovers per game                |      |                                          |"
   ]
  },
  {
   "cell_type": "markdown",
   "metadata": {},
   "source": [
    "## Top Players?"
   ]
  },
  {
   "cell_type": "markdown",
   "metadata": {},
   "source": [
    "Now let's look at the top players from different categories to see which three players you want on your team."
   ]
  },
  {
   "cell_type": "code",
   "execution_count": null,
   "metadata": {},
   "outputs": [],
   "source": [
    "# Define the three statistical categories you want to analyze\n",
    "stat1 = 'YOURSTAT1'    # Replace with your desired stat\n",
    "stat2 = 'YOURSTAT1'    # Replace with your desired stat\n",
    "stat3 = 'YOURSTAT1'    # Replace with your desired stat\n",
    "\n",
    "# Number of players to display\n",
    "n_players = 8\n",
    "\n",
    "def show_multiple_stats(stat1, stat2, stat3, n=8):\n",
    "    \"\"\"\n",
    "    Display top n players for three different statistical categories\n",
    "    \n",
    "    Parameters:\n",
    "    stat1, stat2, stat3 (str): Names of the statistical columns to rank by\n",
    "    n (int): Number of players to display for each category (default=8)\n",
    "    \"\"\"\n",
    "    # Check if all columns exist\n",
    "    for stat in [stat1, stat2, stat3]:\n",
    "        if stat not in df.columns:\n",
    "            print(f\"Error: '{stat}' is not a valid column name\")\n",
    "            return\n",
    "    \n",
    "    # Create DataFrames for each stat\n",
    "    top_stat1 = df[['Name', 'POS', stat1]].sort_values(by=stat1, ascending=False).head(n)\n",
    "    top_stat2 = df[['Name', 'POS', stat2]].sort_values(by=stat2, ascending=False).head(n)\n",
    "    top_stat3 = df[['Name', 'POS', stat3]].sort_values(by=stat3, ascending=False).head(n)\n",
    "    \n",
    "    # Print results with clear separation\n",
    "    print(f\"\\nTop {n} Players by {stat1}:\")\n",
    "    print(\"-\" * 50)\n",
    "    display(top_stat1)\n",
    "    \n",
    "    print(f\"\\nTop {n} Players by {stat2}:\")\n",
    "    print(\"-\" * 50)\n",
    "    display(top_stat2)\n",
    "    \n",
    "    print(f\"\\nTop {n} Players by {stat3}:\")\n",
    "    print(\"-\" * 50)\n",
    "    display(top_stat3)\n",
    "\n",
    "# Run the analysis with the defined statistics\n",
    "show_multiple_stats(stat1, stat2, stat3, n_players)"
   ]
  },
  {
   "cell_type": "markdown",
   "metadata": {},
   "source": [
    "---\n",
    "*Report issues or give us feedback about this notebook [here](https://docs.google.com/forms/d/e/1FAIpQLSdMRX2hPqZyD8-argFJXxB3ABQdLk3aUH1CAfmMEtcFAlWzCw/viewform?usp=pp_url&entry.1771525592=Module%20Resources%20%28the%20Jupyter%20notebooks%2C%20PPTS%20or%20additional%20resources%29&entry.1364186163=Filtering%20Our%20Data).*\n",
    "\n",
    "\n",
    "---\n",
    "Back to [Lessons](https://github.com/pbeens/Data-Dunkers/blob/main/Lessons.ipynb)\n",
    "\n",
    "---\n"
   ]
  }
 ],
 "metadata": {
  "kernelspec": {
   "display_name": "Python 3 (ipykernel)",
   "language": "python",
   "name": "python3"
  },
  "language_info": {
   "codemirror_mode": {
    "name": "ipython",
    "version": 3
   },
   "file_extension": ".py",
   "mimetype": "text/x-python",
   "name": "python",
   "nbconvert_exporter": "python",
   "pygments_lexer": "ipython3",
   "version": "3.11.6"
  }
 },
 "nbformat": 4,
 "nbformat_minor": 4
}
